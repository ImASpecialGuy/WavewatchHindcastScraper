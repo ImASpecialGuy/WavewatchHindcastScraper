{
 "cells": [
  {
   "cell_type": "code",
   "execution_count": 3,
   "metadata": {
    "collapsed": true
   },
   "outputs": [],
   "source": [
    "import threading\n",
    "import multiprocessing"
   ]
  },
  {
   "cell_type": "code",
   "execution_count": 4,
   "outputs": [
    {
     "name": "stdout",
     "output_type": "stream",
     "text": [
      "Number of logical cores: 12\n"
     ]
    }
   ],
   "source": [
    "num_cores = multiprocessing.cpu_count()\n",
    "print(f\"Number of logical cores: {num_cores}\")"
   ],
   "metadata": {
    "collapsed": false
   }
  },
  {
   "cell_type": "code",
   "execution_count": 61,
   "outputs": [],
   "source": [
    "number_of_months = 77779"
   ],
   "metadata": {
    "collapsed": false
   }
  },
  {
   "cell_type": "code",
   "execution_count": 62,
   "outputs": [
    {
     "data": {
      "text/plain": "6481"
     },
     "execution_count": 62,
     "metadata": {},
     "output_type": "execute_result"
    }
   ],
   "source": [
    "months_per_thread = number_of_months // num_cores\n",
    "months_per_thread"
   ],
   "metadata": {
    "collapsed": false
   }
  },
  {
   "cell_type": "code",
   "execution_count": 63,
   "outputs": [
    {
     "data": {
      "text/plain": "7"
     },
     "execution_count": 63,
     "metadata": {},
     "output_type": "execute_result"
    }
   ],
   "source": [
    "remaining_months = number_of_months % num_cores\n",
    "remaining_months"
   ],
   "metadata": {
    "collapsed": false
   }
  },
  {
   "cell_type": "code",
   "execution_count": 64,
   "outputs": [
    {
     "data": {
      "text/plain": "[6481, 6481, 6481, 6481, 6481, 6481, 6481, 6481, 6481, 6481, 6481, 6481]"
     },
     "execution_count": 64,
     "metadata": {},
     "output_type": "execute_result"
    }
   ],
   "source": [
    "threads_workload = [months_per_thread for i in range(num_cores)]\n",
    "threads_workload"
   ],
   "metadata": {
    "collapsed": false
   }
  },
  {
   "cell_type": "code",
   "execution_count": 70,
   "outputs": [
    {
     "name": "stdout",
     "output_type": "stream",
     "text": [
      "1 6482 6482\n",
      "6483 6482 12964\n",
      "12965 6482 19446\n",
      "19447 6482 25928\n",
      "25929 6482 32410\n",
      "32411 6482 38892\n",
      "38893 6482 45374\n",
      "45375 6481 51855\n",
      "51856 6481 58336\n",
      "58337 6481 64817\n",
      "64818 6481 71298\n",
      "71299 6481 77779\n"
     ]
    }
   ],
   "source": [
    "def doTheThing(start_month, number_of_months):\n",
    "    print(start_month, number_of_months, start_month+number_of_months-1)\n",
    "\n",
    "start_month = 1\n",
    "threads = []\n",
    "for i in range(len(threads_workload)):\n",
    "    # evenly divide the remaining months\n",
    "    if remaining_months > 0:\n",
    "        threads_workload[i] += 1\n",
    "        remaining_months -= 1\n",
    "\n",
    "    thread = threading.Thread(target=doTheThing, args=(start_month, threads_workload[i],))\n",
    "    thread.start()\n",
    "    threads.append(thread)\n",
    "    start_month += threads_workload[i]\n",
    "\n",
    "for thread in threads:\n",
    "    thread.join()"
   ],
   "metadata": {
    "collapsed": false
   }
  },
  {
   "cell_type": "code",
   "execution_count": null,
   "outputs": [],
   "source": [],
   "metadata": {
    "collapsed": false
   }
  }
 ],
 "metadata": {
  "kernelspec": {
   "display_name": "Python 3",
   "language": "python",
   "name": "python3"
  },
  "language_info": {
   "codemirror_mode": {
    "name": "ipython",
    "version": 2
   },
   "file_extension": ".py",
   "mimetype": "text/x-python",
   "name": "python",
   "nbconvert_exporter": "python",
   "pygments_lexer": "ipython2",
   "version": "2.7.6"
  }
 },
 "nbformat": 4,
 "nbformat_minor": 0
}
